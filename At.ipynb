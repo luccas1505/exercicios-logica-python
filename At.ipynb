{
  "nbformat": 4,
  "nbformat_minor": 0,
  "metadata": {
    "colab": {
      "provenance": [],
      "include_colab_link": true
    },
    "kernelspec": {
      "name": "python3",
      "display_name": "Python 3"
    },
    "language_info": {
      "name": "python"
    }
  },
  "cells": [
    {
      "cell_type": "markdown",
      "metadata": {
        "id": "view-in-github",
        "colab_type": "text"
      },
      "source": [
        "<a href=\"https://colab.research.google.com/github/luccas1505/exercicios-logica-python/blob/main/At.ipynb\" target=\"_parent\"><img src=\"https://colab.research.google.com/assets/colab-badge.svg\" alt=\"Open In Colab\"/></a>"
      ]
    },
    {
      "cell_type": "markdown",
      "source": [
        "1- Faça um programa em Python que peça para o usuário dois valores numéricos em ponto flutuante e uma operação matemática (+, -, *, /, // ou %). A partir destas informações execute a operação desejada com os valores e apresente o resultado no formato apresentado abaixo:\n",
        "Atenção! Trate corretamente o caso da divisão por zero!\n",
        "'primeiro_valor' 'operacao' 'segundo_valor' = 'resultado'\n",
        "Ex.: 1 + 2 = 3\n"
      ],
      "metadata": {
        "id": "KcqDqy1DgWpH"
      }
    },
    {
      "cell_type": "code",
      "source": [
        "\n",
        "valor_numero1 = float(input(\"Digite o primeiro valor: \"))\n",
        "valor_numero2 = float(input(\"Digite o segundo valor: \"))\n",
        "\n",
        "calculo = input(\"Digite o sinal (+, -, *, /, // ou %): \")\n",
        "\n",
        "if calculo == \"+\":\n",
        "    resultado = valor_numero1 + valor_numero2\n",
        "elif calculo == \"*\":\n",
        "    resultado = valor_numero1 * valor_numero2\n",
        "elif calculo == \"-\":\n",
        "    resultado = valor_numero1 - valor_numero2\n",
        "elif calculo == \"/\":\n",
        "    if valor_numero2 != 0:\n",
        "        resultado = valor_numero1 / valor_numero2\n",
        "    else:\n",
        "        print(\"Erro: Sinto muito mais Divisão por zero não é permitida.\")\n",
        "        resultado = None\n",
        "elif calculo == \"//\":\n",
        "    if valor_numero2 != 0:\n",
        "        resultado = valor_numero1 // valor_numero2\n",
        "    else:\n",
        "        print(\"Erro: Sinto muuito mas divisão por zero não é permitida.\")\n",
        "        resultado = None\n",
        "elif calculo == \"%\":\n",
        "    if valor_numero2 != 0:\n",
        "        resultado = valor_numero1 % valor_numero2\n",
        "    else:\n",
        "        print(\"Erro: Sinto muito mas divisão por zero não é permitida.\")\n",
        "        resultado = None\n",
        "else:\n",
        "    print(\"Operação inválida.Você tem que Usar +, -, *, /, // ou %.\")\n",
        "\n",
        "if resultado is not None:\n",
        "    print(f\"{valor_numero1} {calculo} {valor_numero2} = {resultado}\")\n"
      ],
      "metadata": {
        "id": "eYgSL4RLgeBP",
        "colab": {
          "base_uri": "https://localhost:8080/"
        },
        "outputId": "c51c44ed-4320-4ddb-c160-04fc19e57df3"
      },
      "execution_count": null,
      "outputs": [
        {
          "output_type": "stream",
          "name": "stdout",
          "text": [
            "Digite o primeiro valor: 20\n",
            "Digite o segundo valor: 10\n",
            "Digite o sinal (+, -, *, /, // ou %): -\n",
            "20.0 - 10.0 = 10.0\n"
          ]
        }
      ]
    },
    {
      "cell_type": "markdown",
      "source": [
        "2-Uma empresa decidiu dar um aumento de salário aos seus colaboradores e precisa de um programa para calcular os reajustes de forma correta.\n",
        "Faça um programa que recebe o salário de um colaborador e o reajuste segundo o seguinte critério, baseado no salário atual:\n",
        "Salários até R$1500,00 (incluindo): aumento de 20%;\n",
        "Salários entre R$1500,00 e R$2000,00 (incluindo): aumento de 15%;\n",
        "Salários entre R$2000,00 e R$2500,00 (incluindo): aumento de 10%;\n",
        "Salários acima de R$2500,00: aumento de 5%.\n",
        "Após o aumento ser calculado, informe na tela, de forma clara e organizada:\n",
        "O salário antes do reajuste;\n",
        "O percentual de aumento aplicado;\n",
        "O valor do aumento;\n",
        "O novo salário, após o aumento."
      ],
      "metadata": {
        "id": "C0RF0MZBkGDH"
      }
    },
    {
      "cell_type": "code",
      "source": [
        "def reajuste(salario):\n",
        "    if salario <= 1500:\n",
        "        percentual = 0.20\n",
        "    elif salario <= 2500:\n",
        "        percentual = 0.10\n",
        "    elif salario <= 2000:\n",
        "        percentual = 0.15\n",
        "    else:\n",
        "        percentual = 0.05\n",
        "\n",
        "    aumento = salario * percentual\n",
        "    novo_salario = salario + aumento\n",
        "\n",
        "    print(f\"Salário antes do reajuste: R${salario:.2f}\")\n",
        "    print(f\"Percentual de aumento aplicado: {percentual*100:.2f}%\")\n",
        "    print(f\"Esse é o valor do aumento: R${aumento:.2f}\")\n",
        "    print(f\"Novo salário após o aumento: R${novo_salario:.2f}\")\n",
        "\n",
        "\n",
        "salarioDoColaborador = float(input(\"Escreva o atual salário: \"))\n",
        "reajuste(salarioDoColaborador)\n",
        "\n",
        "\n"
      ],
      "metadata": {
        "id": "LvXD6wxPkJAf",
        "colab": {
          "base_uri": "https://localhost:8080/"
        },
        "outputId": "eb711bc5-5fd3-4547-bbfe-90343ade490c"
      },
      "execution_count": null,
      "outputs": [
        {
          "output_type": "stream",
          "name": "stdout",
          "text": [
            "Escreva o atual salário: 250\n",
            "Salário antes do reajuste: R$250.00\n",
            "Percentual de aumento aplicado: 20.00%\n",
            "Esse é o valor do aumento: R$50.00\n",
            "Novo salário após o aumento: R$300.00\n"
          ]
        }
      ]
    },
    {
      "cell_type": "markdown",
      "source": [
        "3- Faça uma lista com os 10 primeiros múltiplos positivos de 3 (maiores ou iguais a 3), utilizando a estrutura de repetição WHILE. Em seguida, use um laço FOR para imprimir a tabuada de 3 usando os números da lista criada anteriormente.\n"
      ],
      "metadata": {
        "id": "lcMIith9scaZ"
      }
    },
    {
      "cell_type": "code",
      "source": [
        "multiplosDe3 = []\n",
        "x = 10\n",
        "i = 1\n",
        "while len(multiplosDe3) < x:\n",
        "    if i % 3 == 0:\n",
        "        multiplosDe3.append(i)\n",
        "    i += 1\n",
        "print(\"Lista dos 10 primeiros múltiplos de 3:\", multiplosDe3)\n",
        "\n",
        "#  laço com for\n",
        "for nume in multiplosDe3:\n",
        "    resultado = nume * 3\n",
        "    print(f\"3 x {nume} = {resultado}\")\n",
        "\n"
      ],
      "metadata": {
        "id": "XwpYcqfIshmu"
      },
      "execution_count": null,
      "outputs": []
    },
    {
      "cell_type": "markdown",
      "source": [
        "\n",
        "4- Faça um programa de implemente o jogo de Craps. Funciona da seguinte forma:\n",
        "O jogador lança um par de dados, obtendo um valor entre 2 e 12.\n",
        "Se, na primeira jogada, tirar 7 ou 11, isso é chamado de \"natural\", e ganha.\n",
        "Se tirar 2, 3 ou 12 na primeira jogada, isto é chamado de \"craps\", e perde.\n",
        "Se, na primeira jogada, tirar 4, 5, 6, 8, 9 ou 10, este é seu \"Ponto\".\n",
        "O objetivo agora é continuar jogando os dados até tirar este número novamente. No entanto, o jogo estará perdido se tirar um 7 antes de tirar o Ponto novamente.\n",
        "\n",
        "Implemente a jogada de dados com uma função que possa funcionar para jogar qualquer quantidade de dados e usar dados de qualquer quantidade de faces, porém com parâmetro padrão de 6 faces. A função deve retornar o valor da soma total tirada nos dados. Estude e utilize a biblioteca “random” para fazer esta função. Apresente a condição final de jogo.\n",
        "\n",
        "```\n",
        "\n",
        "```\n",
        "\n"
      ],
      "metadata": {
        "id": "kpfLPspdvlL8"
      }
    },
    {
      "cell_type": "code",
      "source": [
        "import random\n",
        "\n",
        "def jogar(dados=2, faces=6):\n",
        "    \"\"\"\n",
        "    Args:\n",
        "        dados (int): Número de dados que vão ser jogados (padrão: 2).\n",
        "        faces (int): Número de faces em cada dado (padrão: 6).\n",
        "\n",
        "    Returns:\n",
        "        int: Soma total dos dados.\n",
        "    \"\"\"\n",
        "\n",
        "    print(\"Bem vindo ao meu jogo\")\n",
        "\n",
        "    pontos = [4, 5, 6, 8, 9, 10]\n",
        "    total = sum(random.randint(1, faces) for _ in range(dados))\n",
        "    print(f\"Você lançou {dados} dados e obteve um total de {total}.\")\n",
        "\n",
        "    if total in [2, 3, 12]:\n",
        "        print(\"Craps! Você perdeu.\")\n",
        "        return total\n",
        "    elif total in [7, 11]:\n",
        "        print(\"Natural! Meus parabens campeão vc ganhou!\")\n",
        "        return total\n",
        "    else:\n",
        "        print(f\"Seu ponto é {total}. Continue jogando até obter o mesmo ponto ou um 7.\")\n",
        "\n",
        "\n",
        "    while True:\n",
        "        totNovo = sum(random.randint(1, faces) for _ in range(dados))\n",
        "        print(f\"Você lançou {dados} dado(s) e obteve um total de {totNovo}.\")\n",
        "        if totNovo == total:\n",
        "            print(\"Você ganhou! Parabéns jovem padawan vc ganhou!\")\n",
        "            return totNovo\n",
        "        elif totNovo == 7:\n",
        "            print(\"Você perdeu. O jogo acaba aqui pra você.\")\n",
        "            return totNovo\n",
        "\n",
        "jogar()\n"
      ],
      "metadata": {
        "colab": {
          "base_uri": "https://localhost:8080/"
        },
        "id": "ztK2FBwExqdv",
        "outputId": "9114f1fe-ef42-4a25-80c0-6769906ec48f"
      },
      "execution_count": null,
      "outputs": [
        {
          "output_type": "stream",
          "name": "stdout",
          "text": [
            "Bem vindo ao meu jogo\n",
            "Você lançou 2 dados e obteve um total de 7.\n",
            "Natural! Meus parabens campeão vc ganhou!\n"
          ]
        },
        {
          "output_type": "execute_result",
          "data": {
            "text/plain": [
              "7"
            ]
          },
          "metadata": {},
          "execution_count": 4
        }
      ]
    },
    {
      "cell_type": "markdown",
      "source": [
        "5- Um palíndromo é uma sequência de caracteres cuja leitura é idêntica se feita da direita para esquerda ou vice−versa. Por exemplo: “OSSO” e “OVO” são palíndromos.\n",
        "Em textos mais complexos os espaços e pontuação são ignorados. A frase “SUBI NO ONIBUS” é o exemplo de uma frase palíndroma onde os espaços e caracteres acentuados foram ignorados. Faça um programa que leia uma sequência de caracteres, apresente−a na tela, em suas formas natural e palíndroma, e diga se é um palíndromo ou não."
      ],
      "metadata": {
        "id": "Qew-_3cN6tB_"
      }
    },
    {
      "cell_type": "code",
      "source": [
        "def palindromo(palavra):\n",
        "    palavra = palavra.lower().replace(\" \", \"\").replace(\",\", \"\").replace(\".\", \"\").replace(\"!\", \"\")\n",
        "\n",
        "\n",
        "    return palavra == palavra[::-1]\n",
        "\n",
        "\n",
        "verificar = input(\"Digite uma sequência de caracteres: \")\n",
        "\n",
        "\n",
        "if palindromo(verificar):\n",
        "    print(f\"{verificar} é um palíndromo\")\n",
        "else:\n",
        "    print(f\"{verificar} não é um palíndromo\")\n"
      ],
      "metadata": {
        "id": "65y7X17t6-vt",
        "colab": {
          "base_uri": "https://localhost:8080/"
        },
        "outputId": "a41aa04a-c2a4-47e1-81f7-f9edd89a311f"
      },
      "execution_count": null,
      "outputs": [
        {
          "output_type": "stream",
          "name": "stdout",
          "text": [
            "Digite uma sequência de caracteres: ovo\n",
            "ovo é um palíndromo\n"
          ]
        }
      ]
    },
    {
      "cell_type": "markdown",
      "source": [
        "6-Faça um programa que leia um número indeterminado de valores, correspondentes a notas entre 0 e 10 (inteiros), encerrando a entrada de dados quando for informado um valor igual a “-1” (que não deve ser armazenado). Após esta entrada de dados, faça:\n",
        "Mostre a quantidade de notas que foram lidas;\n",
        "Exiba todas as notas na ordem em que foram informadas, uma ao lado da outra;\n",
        "Exiba todas as notas na ordem inversa à que foram informadas, uma abaixo da outra;\n",
        "Calcule e mostre a soma das notas;\n",
        "Calcule e mostre a média das notas;\n",
        "Calcule e mostre a quantidade de notas acima da média calculada;\n",
        "Calcule e mostre a quantidade de notas abaixo de sete."
      ],
      "metadata": {
        "id": "T4wiRJUumT8U"
      }
    },
    {
      "cell_type": "code",
      "source": [
        "notas = []\n",
        "acima_media = []\n",
        "abaixo_sete = []\n",
        "\n",
        "nota = int(input('\\nDigite uma nota: '))\n",
        "\n",
        "while nota != -1:\n",
        "    notas.append(nota)\n",
        "    nota = int(input('\\nDigite uma nota: '))\n",
        "\n",
        "print('\\nQuantidade de notas:', len(notas))\n",
        "print('\\nNotas na ordem:', notas)\n",
        "\n",
        "notas.reverse()\n",
        "\n",
        "print('\\nNotas só que na ordem inversa:')\n",
        "for nota in notas:\n",
        "    print(nota)\n",
        "\n",
        "notas.reverse()\n",
        "\n",
        "soma_notas = sum(notas)\n",
        "media_notas = soma_notas / len(notas)\n",
        "\n",
        "for nota in notas:\n",
        "    if nota > media_notas:\n",
        "        acima_media.append(nota)\n",
        "    if nota < 7:\n",
        "        abaixo_sete.append(nota)\n",
        "\n",
        "print('\\nMinha Soma das notas:', soma_notas)\n",
        "print('\\nA Média das notas:', media_notas)\n",
        "print('\\nEssa são as notas acima da média calculada:', len(acima_media))\n",
        "print('\\nEssa é a quantidade de  notas abaixo de sete:', len(abaixo_sete))"
      ],
      "metadata": {
        "id": "hjRsLcHLlabe"
      },
      "execution_count": null,
      "outputs": []
    },
    {
      "cell_type": "markdown",
      "source": [
        "7-Um número elevado à 3ª potência é chamado de cubo. Faça uma lista dos primeiros 10 cubos (ou seja, o cubo de cada inteiro de 1 a 10), utilizando, obrigatoriamente, o recurso de “list comprehension” e use um laço FOR para imprimir os números em sua lista."
      ],
      "metadata": {
        "id": "LCGccBifBdzZ"
      }
    },
    {
      "cell_type": "code",
      "source": [
        "\n",
        "cubos = [i ** 3 for i in range(1, 11)]\n",
        "\n",
        "for cubo in cubos:\n",
        "    print(cubo)\n"
      ],
      "metadata": {
        "id": "3UHRY7LpBj9j",
        "colab": {
          "base_uri": "https://localhost:8080/"
        },
        "outputId": "7748fc53-a0ee-42d4-8496-07533fed606c"
      },
      "execution_count": null,
      "outputs": [
        {
          "output_type": "stream",
          "name": "stdout",
          "text": [
            "1\n",
            "8\n",
            "27\n",
            "64\n",
            "125\n",
            "216\n",
            "343\n",
            "512\n",
            "729\n",
            "1000\n"
          ]
        }
      ]
    }
  ]
}